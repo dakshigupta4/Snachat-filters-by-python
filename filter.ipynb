{
 "cells": [
  {
   "cell_type": "code",
   "execution_count": 1,
   "metadata": {},
   "outputs": [
    {
     "name": "stdout",
     "output_type": "stream",
     "text": [
      "Requirement already satisfied: cvzone in c:\\users\\dell\\anaconda3\\lib\\site-packages (1.5.3)\n",
      "Requirement already satisfied: opencv-python in c:\\users\\dell\\anaconda3\\lib\\site-packages (from cvzone) (4.5.3.56)\n",
      "Requirement already satisfied: numpy in c:\\users\\dell\\anaconda3\\lib\\site-packages (from cvzone) (1.18.5)\n",
      "Note: you may need to restart the kernel to use updated packages.\n"
     ]
    }
   ],
   "source": [
    "pip install cvzone"
   ]
  },
  {
   "cell_type": "code",
   "execution_count": null,
   "metadata": {},
   "outputs": [],
   "source": [
    "from cv2 import cv2\n",
    "import cvzone\n",
    "df=cv2.imread(\"deepi.png\")\n",
    "sunglass=cv2.imread(\"sta.png\",cv2.IMREAD_UNCHANGED)\n",
    "df2=cvzone.overlayPNG(df,sunglass,[100,100])\n",
    "cv2.imshow(\"Snap Dead\",df2)\n",
    "cv2.waitKey(0)"
   ]
  },
  {
   "cell_type": "code",
   "execution_count": 3,
   "metadata": {},
   "outputs": [
    {
     "data": {
      "text/plain": [
       "-1"
      ]
     },
     "execution_count": 3,
     "metadata": {},
     "output_type": "execute_result"
    }
   ],
   "source": [
    "from  cv2 import cv2\n",
    "import cvzone\n",
    "df = cv2.imread(\"deepi.png\")#read the image\n",
    "sunglass = cv2.imread(\"sunglass.png\",cv2.IMREAD_UNCHANGED)\n",
    "final = cvzone.overlayPNG(df, sunglass , [100,100])#[100,100]used for place the image\n",
    "cv2.imshow(\"Snap Dead\",final)#show the image\n",
    "cv2.waitKey(0)#until next key\n",
    "#cv2.destroyAllWindows()"
   ]
  }
 ],
 "metadata": {
  "kernelspec": {
   "display_name": "Python 3",
   "language": "python",
   "name": "python3"
  },
  "language_info": {
   "codemirror_mode": {
    "name": "ipython",
    "version": 3
   },
   "file_extension": ".py",
   "mimetype": "text/x-python",
   "name": "python",
   "nbconvert_exporter": "python",
   "pygments_lexer": "ipython3",
   "version": "3.8.3"
  }
 },
 "nbformat": 4,
 "nbformat_minor": 4
}
